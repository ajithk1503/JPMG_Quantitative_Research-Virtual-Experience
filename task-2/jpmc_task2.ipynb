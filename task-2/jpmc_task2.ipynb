{
 "cells": [
  {
   "cell_type": "code",
   "execution_count": 19,
   "id": "018e09bf-ecb3-4cdf-b060-018f9557f616",
   "metadata": {},
   "outputs": [],
   "source": [
    "from datetime import date\n",
    "import math"
   ]
  },
  {
   "cell_type": "code",
   "execution_count": 21,
   "id": "75a68294-b78a-4351-ae5f-f000bab4f5ce",
   "metadata": {},
   "outputs": [],
   "source": [
    "def price_contract(in_dates, in_prices, out_dates, out_prices, rate, storage_cost_rate, total_vol, injection_withdrawal_cost_rate):\n",
    "    volume = 0\n",
    "    buy_cost = 0\n",
    "    cash_in = 0\n",
    "    \n",
    "    if not in_dates or not out_dates:\n",
    "        return \"Error: Injection or extraction dates are empty.\"\n",
    "    \n",
    "    last_date = min(min(in_dates), min(out_dates))\n",
    "    all_dates = sorted(set(in_dates + out_dates))\n",
    "\n",
    "    for start_date in all_dates:\n",
    "        if start_date in in_dates:\n",
    "            if volume <= total_vol - rate:\n",
    "                volume += rate\n",
    "                buy_cost += rate * in_prices[in_dates.index(start_date)]\n",
    "                buy_cost += rate * injection_withdrawal_cost_rate\n",
    "                \n",
    "                print(f\"Injected gas on {start_date} at a price of {in_prices[in_dates.index(start_date)]}\")\n",
    "            else:\n",
    "                print(f\"Injection not possible on {start_date}: Storage full.\")\n",
    "        \n",
    "        elif start_date in out_dates:\n",
    "            if volume >= rate:\n",
    "                volume -= rate\n",
    "                cash_in += rate * out_prices[out_dates.index(start_date)]\n",
    "                cash_in -= rate * injection_withdrawal_cost_rate\n",
    "                \n",
    "                print(f\"Extracted gas on {start_date} at a price of {out_prices[out_dates.index(start_date)]}\")\n",
    "            else:\n",
    "                print(f\"Extraction not possible on {start_date}: Insufficient gas.\")\n",
    "\n",
    "    storage_months = math.ceil((max(out_dates).toordinal() - min(in_dates).toordinal()) / 30)\n",
    "    store_cost = storage_months * storage_cost_rate\n",
    "\n",
    "    return cash_in - store_cost - buy_cost\n",
    "\n",
    "\n"
   ]
  },
  {
   "cell_type": "code",
   "execution_count": 23,
   "id": "6fdb6304-d4a6-4ece-8f30-099ffaef8af4",
   "metadata": {},
   "outputs": [
    {
     "name": "stdout",
     "output_type": "stream",
     "text": [
      "Injected gas on 2022-01-01 at a price of 20\n",
      "Extracted gas on 2022-01-27 at a price of 23\n",
      "Injected gas on 2022-02-01 at a price of 21\n",
      "Extracted gas on 2022-02-15 at a price of 19\n",
      "Injected gas on 2022-02-21 at a price of 20.5\n",
      "Extracted gas on 2022-03-20 at a price of 21\n",
      "Injected gas on 2022-04-01 at a price of 22\n",
      "Extracted gas on 2022-06-01 at a price of 25\n",
      "\n",
      "The value of the contract is: $389600.0\n"
     ]
    }
   ],
   "source": [
    "in_dates = [date(2022, 1, 1), date(2022, 2, 1), date(2022, 2, 21), date(2022, 4, 1)]\n",
    "in_prices = [20, 21, 20.5, 22]\n",
    "out_dates = [date(2022, 1, 27), date(2022, 2, 15), date(2022, 3, 20), date(2022, 6, 1)]\n",
    "out_prices = [23, 19, 21, 25]\n",
    "rate = 100000  \n",
    "storage_cost_rate = 10000  \n",
    "injection_withdrawal_cost_rate = 0.0005  \n",
    "max_storage_volume = 500000  \n",
    "\n",
    "result = price_contract(in_dates, in_prices, out_dates, out_prices, rate, storage_cost_rate, max_storage_volume, injection_withdrawal_cost_rate)\n",
    "\n",
    "print()\n",
    "print(f\"The value of the contract is: ${result}\")"
   ]
  },
  {
   "cell_type": "code",
   "execution_count": null,
   "id": "458234cf-b287-4756-ac6d-fcb8c283ee08",
   "metadata": {},
   "outputs": [],
   "source": []
  }
 ],
 "metadata": {
  "kernelspec": {
   "display_name": "Python 3 (ipykernel)",
   "language": "python",
   "name": "python3"
  },
  "language_info": {
   "codemirror_mode": {
    "name": "ipython",
    "version": 3
   },
   "file_extension": ".py",
   "mimetype": "text/x-python",
   "name": "python",
   "nbconvert_exporter": "python",
   "pygments_lexer": "ipython3",
   "version": "3.12.4"
  }
 },
 "nbformat": 4,
 "nbformat_minor": 5
}
