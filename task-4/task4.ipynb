{
 "cells": [
  {
   "cell_type": "code",
   "execution_count": 11,
   "id": "59061566-9477-4726-874b-dc17bd62d5eb",
   "metadata": {},
   "outputs": [],
   "source": [
    "import pandas as pd\n",
    "import numpy as np\n",
    "from math import log"
   ]
  },
  {
   "cell_type": "code",
   "execution_count": 13,
   "id": "df2e21a6-bbcf-4c6b-85d0-ac8a4ee0bc86",
   "metadata": {},
   "outputs": [],
   "source": [
    "df = pd.read_csv('Task 3 and 4_Loan_Data.csv')"
   ]
  },
  {
   "cell_type": "code",
   "execution_count": 19,
   "id": "a611cd00-5e4c-41f0-9041-343cf401dd32",
   "metadata": {},
   "outputs": [
    {
     "name": "stdout",
     "output_type": "stream",
     "text": [
      "10000 10000\n"
     ]
    }
   ],
   "source": [
    "x = df['default'].to_list()\n",
    "y = df['fico_score'].to_list()\n",
    "n = len(x)\n",
    "print (len(x), len(y))\n",
    "\n",
    "default = [0 for i in range(851)]\n",
    "total = [0 for i in range(851)]\n",
    "\n",
    "for i in range(n):\n",
    "    y[i] = int(y[i])\n",
    "    default[y[i]-300] += x[i]\n",
    "    total[y[i]-300] += 1\n",
    "    \n",
    "for i in range(0, 551):\n",
    "    default[i] += default[i-1]\n",
    "    total[i] += total[i-1]"
   ]
  },
  {
   "cell_type": "code",
   "execution_count": 23,
   "id": "1174a160-72bd-4e5f-ab85-a17485f1cb32",
   "metadata": {},
   "outputs": [],
   "source": [
    "def log_likelihood(n, k):\n",
    "    p = k/n\n",
    "    if (p==0 or p==1):\n",
    "        return 0\n",
    "    return k*np.log(p)+ (n-k)*np.log(1-p)\n",
    "\n",
    "r = 10\n",
    "dp = [[[-10**18, 0] for i in range(551)] for j in range(r+1)]\n",
    "\n",
    "for i in range(r+1):\n",
    "    for j in range(551):\n",
    "        if (i==0):\n",
    "            dp[i][j][0] = 0\n",
    "        else:\n",
    "            for k in range(j):\n",
    "                if (total[j]==total[k]):\n",
    "                    continue\n",
    "                if (i==1):\n",
    "                    dp[i][j][0] = log_likelihood(total[j], default[j])\n",
    "                else:\n",
    "                    if (dp[i][j][0] < (dp[i-1][k][0] + log_likelihood(total[j]-total[k], default[j] - default[k]))):\n",
    "                        dp[i][j][0] = log_likelihood(total[j]-total[k], default[j]-default[k]) + dp[i-1][k][0]\n",
    "                        dp[i][j][1] = k\n",
    "                                                     \n",
    "\n"
   ]
  },
  {
   "cell_type": "code",
   "execution_count": 24,
   "id": "f9c5f77f-0cca-4764-ae2e-cadda272dc47",
   "metadata": {},
   "outputs": [
    {
     "name": "stdout",
     "output_type": "stream",
     "text": [
      "-4217.8245\n",
      "[850, 753, 752, 732, 696, 649, 611, 580, 552, 520, 300]\n"
     ]
    }
   ],
   "source": [
    "print (round(dp[r][550][0], 4))\n",
    "                                                     \n",
    "k = 550\n",
    "l = []\n",
    "while r >= 0:\n",
    "    l.append(k+300)\n",
    "    k = dp[r][k][1]\n",
    "    r -= 1\n",
    "print(l)"
   ]
  },
  {
   "cell_type": "code",
   "execution_count": null,
   "id": "21d838b5-215e-4615-a582-6f7444cd13c9",
   "metadata": {},
   "outputs": [],
   "source": []
  }
 ],
 "metadata": {
  "kernelspec": {
   "display_name": "Python 3 (ipykernel)",
   "language": "python",
   "name": "python3"
  },
  "language_info": {
   "codemirror_mode": {
    "name": "ipython",
    "version": 3
   },
   "file_extension": ".py",
   "mimetype": "text/x-python",
   "name": "python",
   "nbconvert_exporter": "python",
   "pygments_lexer": "ipython3",
   "version": "3.12.4"
  }
 },
 "nbformat": 4,
 "nbformat_minor": 5
}
